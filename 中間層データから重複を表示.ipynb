{
 "cells": [
  {
   "cell_type": "code",
   "execution_count": 1,
   "metadata": {},
   "outputs": [],
   "source": [
    "import pandas as pd"
   ]
  },
  {
   "cell_type": "code",
   "execution_count": 4,
   "metadata": {},
   "outputs": [],
   "source": [
    "a = pd.read_csv('/home/r201870087ja/Downloads/中間層データ（固定長）.csv')"
   ]
  },
  {
   "cell_type": "code",
   "execution_count": 5,
   "metadata": {
    "scrolled": true
   },
   "outputs": [
    {
     "data": {
      "text/html": [
       "<div>\n",
       "<style scoped>\n",
       "    .dataframe tbody tr th:only-of-type {\n",
       "        vertical-align: middle;\n",
       "    }\n",
       "\n",
       "    .dataframe tbody tr th {\n",
       "        vertical-align: top;\n",
       "    }\n",
       "\n",
       "    .dataframe thead th {\n",
       "        text-align: right;\n",
       "    }\n",
       "</style>\n",
       "<table border=\"1\" class=\"dataframe\">\n",
       "  <thead>\n",
       "    <tr style=\"text-align: right;\">\n",
       "      <th></th>\n",
       "      <th>Unnamed: 0</th>\n",
       "      <th>Unnamed: 1</th>\n",
       "      <th>Unnamed: 2</th>\n",
       "      <th>Unnamed: 3</th>\n",
       "      <th>Unnamed: 4</th>\n",
       "      <th>Unnamed: 5</th>\n",
       "      <th>Unnamed: 6</th>\n",
       "      <th>Unnamed: 7</th>\n",
       "      <th>Unnamed: 8</th>\n",
       "      <th>Unnamed: 9</th>\n",
       "      <th>Unnamed: 10</th>\n",
       "      <th>Unnamed: 11</th>\n",
       "      <th>Unnamed: 12</th>\n",
       "      <th>Unnamed: 13</th>\n",
       "      <th>Unnamed: 14</th>\n",
       "      <th>Unnamed: 15</th>\n",
       "    </tr>\n",
       "  </thead>\n",
       "  <tbody>\n",
       "    <tr>\n",
       "      <th>0</th>\n",
       "      <td>0.00</td>\n",
       "      <td>0.00</td>\n",
       "      <td>0.00</td>\n",
       "      <td>0.00</td>\n",
       "      <td>0.00</td>\n",
       "      <td>0.0</td>\n",
       "      <td>0.0</td>\n",
       "      <td>0.0</td>\n",
       "      <td>0.00</td>\n",
       "      <td>0.0</td>\n",
       "      <td>0.0</td>\n",
       "      <td>0.0</td>\n",
       "      <td>0.00</td>\n",
       "      <td>20.00</td>\n",
       "      <td>47.80</td>\n",
       "      <td>0.0</td>\n",
       "    </tr>\n",
       "    <tr>\n",
       "      <th>1</th>\n",
       "      <td>0.00</td>\n",
       "      <td>7.08</td>\n",
       "      <td>21.50</td>\n",
       "      <td>35.50</td>\n",
       "      <td>0.00</td>\n",
       "      <td>0.0</td>\n",
       "      <td>17.1</td>\n",
       "      <td>62.3</td>\n",
       "      <td>0.00</td>\n",
       "      <td>0.0</td>\n",
       "      <td>0.0</td>\n",
       "      <td>56.4</td>\n",
       "      <td>11.70</td>\n",
       "      <td>0.00</td>\n",
       "      <td>0.00</td>\n",
       "      <td>0.0</td>\n",
       "    </tr>\n",
       "    <tr>\n",
       "      <th>2</th>\n",
       "      <td>0.00</td>\n",
       "      <td>0.00</td>\n",
       "      <td>0.00</td>\n",
       "      <td>7.01</td>\n",
       "      <td>0.00</td>\n",
       "      <td>0.0</td>\n",
       "      <td>0.0</td>\n",
       "      <td>0.0</td>\n",
       "      <td>0.00</td>\n",
       "      <td>0.0</td>\n",
       "      <td>0.0</td>\n",
       "      <td>0.0</td>\n",
       "      <td>0.00</td>\n",
       "      <td>0.00</td>\n",
       "      <td>0.00</td>\n",
       "      <td>0.0</td>\n",
       "    </tr>\n",
       "    <tr>\n",
       "      <th>3</th>\n",
       "      <td>0.00</td>\n",
       "      <td>0.00</td>\n",
       "      <td>0.00</td>\n",
       "      <td>0.00</td>\n",
       "      <td>0.00</td>\n",
       "      <td>0.0</td>\n",
       "      <td>0.0</td>\n",
       "      <td>0.0</td>\n",
       "      <td>13.60</td>\n",
       "      <td>0.0</td>\n",
       "      <td>0.0</td>\n",
       "      <td>0.0</td>\n",
       "      <td>4.23</td>\n",
       "      <td>0.00</td>\n",
       "      <td>4.37</td>\n",
       "      <td>0.0</td>\n",
       "    </tr>\n",
       "    <tr>\n",
       "      <th>4</th>\n",
       "      <td>23.80</td>\n",
       "      <td>0.00</td>\n",
       "      <td>2.92</td>\n",
       "      <td>0.00</td>\n",
       "      <td>7.09</td>\n",
       "      <td>0.0</td>\n",
       "      <td>0.0</td>\n",
       "      <td>0.0</td>\n",
       "      <td>0.00</td>\n",
       "      <td>0.0</td>\n",
       "      <td>0.0</td>\n",
       "      <td>0.0</td>\n",
       "      <td>6.76</td>\n",
       "      <td>0.00</td>\n",
       "      <td>0.00</td>\n",
       "      <td>0.0</td>\n",
       "    </tr>\n",
       "    <tr>\n",
       "      <th>...</th>\n",
       "      <td>...</td>\n",
       "      <td>...</td>\n",
       "      <td>...</td>\n",
       "      <td>...</td>\n",
       "      <td>...</td>\n",
       "      <td>...</td>\n",
       "      <td>...</td>\n",
       "      <td>...</td>\n",
       "      <td>...</td>\n",
       "      <td>...</td>\n",
       "      <td>...</td>\n",
       "      <td>...</td>\n",
       "      <td>...</td>\n",
       "      <td>...</td>\n",
       "      <td>...</td>\n",
       "      <td>...</td>\n",
       "    </tr>\n",
       "    <tr>\n",
       "      <th>51195</th>\n",
       "      <td>0.00</td>\n",
       "      <td>0.00</td>\n",
       "      <td>0.00</td>\n",
       "      <td>0.00</td>\n",
       "      <td>0.00</td>\n",
       "      <td>0.0</td>\n",
       "      <td>0.0</td>\n",
       "      <td>0.0</td>\n",
       "      <td>0.00</td>\n",
       "      <td>0.0</td>\n",
       "      <td>0.0</td>\n",
       "      <td>0.0</td>\n",
       "      <td>0.00</td>\n",
       "      <td>0.00</td>\n",
       "      <td>0.00</td>\n",
       "      <td>0.0</td>\n",
       "    </tr>\n",
       "    <tr>\n",
       "      <th>51196</th>\n",
       "      <td>1.34</td>\n",
       "      <td>0.00</td>\n",
       "      <td>0.00</td>\n",
       "      <td>0.00</td>\n",
       "      <td>35.70</td>\n",
       "      <td>24.4</td>\n",
       "      <td>0.0</td>\n",
       "      <td>0.0</td>\n",
       "      <td>9.81</td>\n",
       "      <td>22.2</td>\n",
       "      <td>19.2</td>\n",
       "      <td>0.0</td>\n",
       "      <td>1.09</td>\n",
       "      <td>0.00</td>\n",
       "      <td>2.35</td>\n",
       "      <td>0.0</td>\n",
       "    </tr>\n",
       "    <tr>\n",
       "      <th>51197</th>\n",
       "      <td>0.00</td>\n",
       "      <td>0.00</td>\n",
       "      <td>0.00</td>\n",
       "      <td>0.00</td>\n",
       "      <td>0.00</td>\n",
       "      <td>0.0</td>\n",
       "      <td>0.0</td>\n",
       "      <td>0.0</td>\n",
       "      <td>0.00</td>\n",
       "      <td>0.0</td>\n",
       "      <td>0.0</td>\n",
       "      <td>0.0</td>\n",
       "      <td>0.00</td>\n",
       "      <td>0.00</td>\n",
       "      <td>0.00</td>\n",
       "      <td>0.0</td>\n",
       "    </tr>\n",
       "    <tr>\n",
       "      <th>51198</th>\n",
       "      <td>10.30</td>\n",
       "      <td>35.30</td>\n",
       "      <td>75.10</td>\n",
       "      <td>73.20</td>\n",
       "      <td>85.60</td>\n",
       "      <td>114.0</td>\n",
       "      <td>93.5</td>\n",
       "      <td>83.7</td>\n",
       "      <td>135.00</td>\n",
       "      <td>183.0</td>\n",
       "      <td>151.0</td>\n",
       "      <td>106.0</td>\n",
       "      <td>87.70</td>\n",
       "      <td>204.00</td>\n",
       "      <td>194.00</td>\n",
       "      <td>179.0</td>\n",
       "    </tr>\n",
       "    <tr>\n",
       "      <th>51199</th>\n",
       "      <td>0.00</td>\n",
       "      <td>21.20</td>\n",
       "      <td>0.00</td>\n",
       "      <td>0.00</td>\n",
       "      <td>0.00</td>\n",
       "      <td>79.7</td>\n",
       "      <td>31.7</td>\n",
       "      <td>0.0</td>\n",
       "      <td>0.00</td>\n",
       "      <td>65.0</td>\n",
       "      <td>15.5</td>\n",
       "      <td>0.0</td>\n",
       "      <td>0.00</td>\n",
       "      <td>6.31</td>\n",
       "      <td>0.00</td>\n",
       "      <td>0.0</td>\n",
       "    </tr>\n",
       "  </tbody>\n",
       "</table>\n",
       "<p>51200 rows × 16 columns</p>\n",
       "</div>"
      ],
      "text/plain": [
       "       Unnamed: 0  Unnamed: 1  Unnamed: 2  Unnamed: 3  Unnamed: 4  Unnamed: 5  \\\n",
       "0            0.00        0.00        0.00        0.00        0.00         0.0   \n",
       "1            0.00        7.08       21.50       35.50        0.00         0.0   \n",
       "2            0.00        0.00        0.00        7.01        0.00         0.0   \n",
       "3            0.00        0.00        0.00        0.00        0.00         0.0   \n",
       "4           23.80        0.00        2.92        0.00        7.09         0.0   \n",
       "...           ...         ...         ...         ...         ...         ...   \n",
       "51195        0.00        0.00        0.00        0.00        0.00         0.0   \n",
       "51196        1.34        0.00        0.00        0.00       35.70        24.4   \n",
       "51197        0.00        0.00        0.00        0.00        0.00         0.0   \n",
       "51198       10.30       35.30       75.10       73.20       85.60       114.0   \n",
       "51199        0.00       21.20        0.00        0.00        0.00        79.7   \n",
       "\n",
       "       Unnamed: 6  Unnamed: 7  Unnamed: 8  Unnamed: 9  Unnamed: 10  \\\n",
       "0             0.0         0.0        0.00         0.0          0.0   \n",
       "1            17.1        62.3        0.00         0.0          0.0   \n",
       "2             0.0         0.0        0.00         0.0          0.0   \n",
       "3             0.0         0.0       13.60         0.0          0.0   \n",
       "4             0.0         0.0        0.00         0.0          0.0   \n",
       "...           ...         ...         ...         ...          ...   \n",
       "51195         0.0         0.0        0.00         0.0          0.0   \n",
       "51196         0.0         0.0        9.81        22.2         19.2   \n",
       "51197         0.0         0.0        0.00         0.0          0.0   \n",
       "51198        93.5        83.7      135.00       183.0        151.0   \n",
       "51199        31.7         0.0        0.00        65.0         15.5   \n",
       "\n",
       "       Unnamed: 11  Unnamed: 12  Unnamed: 13  Unnamed: 14  Unnamed: 15  \n",
       "0              0.0         0.00        20.00        47.80          0.0  \n",
       "1             56.4        11.70         0.00         0.00          0.0  \n",
       "2              0.0         0.00         0.00         0.00          0.0  \n",
       "3              0.0         4.23         0.00         4.37          0.0  \n",
       "4              0.0         6.76         0.00         0.00          0.0  \n",
       "...            ...          ...          ...          ...          ...  \n",
       "51195          0.0         0.00         0.00         0.00          0.0  \n",
       "51196          0.0         1.09         0.00         2.35          0.0  \n",
       "51197          0.0         0.00         0.00         0.00          0.0  \n",
       "51198        106.0        87.70       204.00       194.00        179.0  \n",
       "51199          0.0         0.00         6.31         0.00          0.0  \n",
       "\n",
       "[51200 rows x 16 columns]"
      ]
     },
     "execution_count": 5,
     "metadata": {},
     "output_type": "execute_result"
    }
   ],
   "source": [
    "a"
   ]
  },
  {
   "cell_type": "code",
   "execution_count": 11,
   "metadata": {},
   "outputs": [
    {
     "name": "stdout",
     "output_type": "stream",
     "text": [
      "0        False\n",
      "1        False\n",
      "2        False\n",
      "3        False\n",
      "4        False\n",
      "         ...  \n",
      "51195     True\n",
      "51196    False\n",
      "51197     True\n",
      "51198    False\n",
      "51199    False\n",
      "Length: 51200, dtype: bool\n"
     ]
    }
   ],
   "source": [
    "print(a.duplicated(subset=['Unnamed: 0', 'Unnamed: 1', 'Unnamed: 2', 'Unnamed: 3', 'Unnamed: 4', 'Unnamed: 5', 'Unnamed: 6', 'Unnamed: 7', 'Unnamed: 8', 'Unnamed: 9', 'Unnamed: 10', 'Unnamed: 11', 'Unnamed: 12', 'Unnamed: 13', 'Unnamed: 14', 'Unnamed: 15']))"
   ]
  },
  {
   "cell_type": "code",
   "execution_count": 6,
   "metadata": {},
   "outputs": [],
   "source": []
  },
  {
   "cell_type": "code",
   "execution_count": null,
   "metadata": {},
   "outputs": [],
   "source": []
  },
  {
   "cell_type": "code",
   "execution_count": 8,
   "metadata": {},
   "outputs": [
    {
     "name": "stdout",
     "output_type": "stream",
     "text": [
      "0        False\n",
      "1        False\n",
      "2        False\n",
      "3        False\n",
      "4        False\n",
      "         ...  \n",
      "51195     True\n",
      "51196    False\n",
      "51197     True\n",
      "51198    False\n",
      "51199    False\n",
      "Length: 51200, dtype: bool\n"
     ]
    }
   ],
   "source": [
    "print(a.duplicated())#重複した行はTrue"
   ]
  },
  {
   "cell_type": "code",
   "execution_count": 9,
   "metadata": {},
   "outputs": [
    {
     "name": "stdout",
     "output_type": "stream",
     "text": [
      "       Unnamed: 0  Unnamed: 1  Unnamed: 2  Unnamed: 3  Unnamed: 4  Unnamed: 5  \\\n",
      "10            0.0         0.0         0.0         0.0         0.0         0.0   \n",
      "14            0.0         0.0         0.0         0.0         0.0         0.0   \n",
      "22            0.0         0.0         0.0         0.0         0.0         0.0   \n",
      "28            0.0         0.0         0.0         0.0         0.0         0.0   \n",
      "30            0.0         0.0         0.0         0.0         0.0         0.0   \n",
      "...           ...         ...         ...         ...         ...         ...   \n",
      "51185         0.0         0.0         0.0         0.0         0.0         0.0   \n",
      "51191         0.0         0.0         0.0         0.0         0.0         0.0   \n",
      "51192         0.0         0.0         0.0         0.0         0.0         0.0   \n",
      "51195         0.0         0.0         0.0         0.0         0.0         0.0   \n",
      "51197         0.0         0.0         0.0         0.0         0.0         0.0   \n",
      "\n",
      "       Unnamed: 6  Unnamed: 7  Unnamed: 8  Unnamed: 9  Unnamed: 10  \\\n",
      "10            0.0         0.0         0.0         0.0          0.0   \n",
      "14            0.0         0.0         0.0         0.0          0.0   \n",
      "22            0.0         0.0         0.0         0.0          0.0   \n",
      "28            0.0         0.0         0.0         0.0          0.0   \n",
      "30            0.0         0.0         0.0         0.0          0.0   \n",
      "...           ...         ...         ...         ...          ...   \n",
      "51185         0.0         0.0         0.0         0.0          0.0   \n",
      "51191         0.0         0.0         0.0         0.0          0.0   \n",
      "51192         0.0         0.0         0.0         0.0          0.0   \n",
      "51195         0.0         0.0         0.0         0.0          0.0   \n",
      "51197         0.0         0.0         0.0         0.0          0.0   \n",
      "\n",
      "       Unnamed: 11  Unnamed: 12  Unnamed: 13  Unnamed: 14  Unnamed: 15  \n",
      "10             0.0          0.0          0.0          0.0          0.0  \n",
      "14             0.0          0.0          0.0          0.0          0.0  \n",
      "22             0.0          0.0          0.0          0.0          0.0  \n",
      "28             0.0          0.0          0.0          0.0          0.0  \n",
      "30             0.0          0.0          0.0          0.0          0.0  \n",
      "...            ...          ...          ...          ...          ...  \n",
      "51185          0.0          0.0          0.0          0.0          0.0  \n",
      "51191          0.0          0.0          0.0          0.0          0.0  \n",
      "51192          0.0          0.0          0.0          0.0          0.0  \n",
      "51195          0.0          0.0          0.0          0.0          0.0  \n",
      "51197          0.0          0.0          0.0          0.0          0.0  \n",
      "\n",
      "[13378 rows x 16 columns]\n"
     ]
    }
   ],
   "source": [
    "print(a[a.duplicated()])#13378行重複してる"
   ]
  },
  {
   "cell_type": "code",
   "execution_count": 13,
   "metadata": {},
   "outputs": [
    {
     "name": "stdout",
     "output_type": "stream",
     "text": [
      "False    37822\n",
      "True     13378\n",
      "dtype: int64\n"
     ]
    }
   ],
   "source": [
    "print(a.duplicated().value_counts())#Falseは重複を除いた行の数なので、全部足すと51200"
   ]
  },
  {
   "cell_type": "code",
   "execution_count": 15,
   "metadata": {},
   "outputs": [
    {
     "name": "stdout",
     "output_type": "stream",
     "text": [
      "13378\n"
     ]
    }
   ],
   "source": [
    "print(a.duplicated().value_counts()[True])"
   ]
  },
  {
   "cell_type": "code",
   "execution_count": null,
   "metadata": {},
   "outputs": [],
   "source": []
  },
  {
   "cell_type": "code",
   "execution_count": null,
   "metadata": {},
   "outputs": [],
   "source": []
  },
  {
   "cell_type": "code",
   "execution_count": null,
   "metadata": {},
   "outputs": [],
   "source": [
    "pd.set_option('display.max_rows', 51250)#表示する行数の指定（jupyterで無理やり表示するため）"
   ]
  },
  {
   "cell_type": "code",
   "execution_count": 31,
   "metadata": {},
   "outputs": [
    {
     "name": "stderr",
     "output_type": "stream",
     "text": [
      "IOPub data rate exceeded.\n",
      "The notebook server will temporarily stop sending output\n",
      "to the client in order to avoid crashing it.\n",
      "To change this limit, set the config variable\n",
      "`--NotebookApp.iopub_data_rate_limit`.\n",
      "\n",
      "Current values:\n",
      "NotebookApp.iopub_data_rate_limit=1000000.0 (bytes/sec)\n",
      "NotebookApp.rate_limit_window=3.0 (secs)\n",
      "\n"
     ]
    }
   ],
   "source": [
    "\n",
    "ret_df = a.groupby(['Unnamed: 0', 'Unnamed: 1', 'Unnamed: 2', 'Unnamed: 3', 'Unnamed: 4', 'Unnamed: 5', 'Unnamed: 6', 'Unnamed: 7', 'Unnamed: 8', 'Unnamed: 9', 'Unnamed: 10', 'Unnamed: 11', 'Unnamed: 12', 'Unnamed: 13', 'Unnamed: 14', 'Unnamed: 15']).size()\n",
    "print(ret_df)#多すぎてエラー、IPythonは動くけど見づらい"
   ]
  },
  {
   "cell_type": "code",
   "execution_count": null,
   "metadata": {},
   "outputs": [],
   "source": []
  },
  {
   "cell_type": "code",
   "execution_count": 33,
   "metadata": {},
   "outputs": [
    {
     "name": "stderr",
     "output_type": "stream",
     "text": [
      "/home/r201870087ja/anaconda3/envs/py3_5/lib/python3.6/site-packages/ipykernel_launcher.py:1: FutureWarning: The signature of `Series.to_csv` was aligned to that of `DataFrame.to_csv`, and argument 'header' will change its default value from False to True: please pass an explicit value to suppress this warning.\n",
      "  \"\"\"Entry point for launching an IPython kernel.\n"
     ]
    }
   ],
   "source": [
    "ret_df.to_csv('カウント_3.csv')#Excelで表示するためにCSVで保存"
   ]
  },
  {
   "cell_type": "code",
   "execution_count": null,
   "metadata": {},
   "outputs": [],
   "source": []
  }
 ],
 "metadata": {
  "kernelspec": {
   "display_name": "Python 3",
   "language": "python",
   "name": "python3"
  },
  "language_info": {
   "codemirror_mode": {
    "name": "ipython",
    "version": 3
   },
   "file_extension": ".py",
   "mimetype": "text/x-python",
   "name": "python",
   "nbconvert_exporter": "python",
   "pygments_lexer": "ipython3",
   "version": "3.6.9"
  }
 },
 "nbformat": 4,
 "nbformat_minor": 2
}
